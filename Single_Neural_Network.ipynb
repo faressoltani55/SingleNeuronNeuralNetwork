{
  "nbformat": 4,
  "nbformat_minor": 0,
  "metadata": {
    "colab": {
      "provenance": [],
      "authorship_tag": "ABX9TyMhDBa4PRh1owvHu0Ep5f51",
      "include_colab_link": true
    },
    "kernelspec": {
      "name": "python3",
      "display_name": "Python 3"
    },
    "language_info": {
      "name": "python"
    }
  },
  "cells": [
    {
      "cell_type": "markdown",
      "metadata": {
        "id": "view-in-github",
        "colab_type": "text"
      },
      "source": [
        "<a href=\"https://colab.research.google.com/github/faressoltani55/SingleNeuronNeuralNetwork/blob/master/Single_Neural_Network.ipynb\" target=\"_parent\"><img src=\"https://colab.research.google.com/assets/colab-badge.svg\" alt=\"Open In Colab\"/></a>"
      ]
    },
    {
      "cell_type": "markdown",
      "source": [
        "# In this Notebook, we are going to create a single neural network from scratch"
      ],
      "metadata": {
        "id": "NCr0ZX-3MaVN"
      }
    },
    {
      "cell_type": "code",
      "execution_count": null,
      "metadata": {
        "id": "pmjsot_OMVW8"
      },
      "outputs": [],
      "source": [
        "import numpy as np\n",
        "import matplotlib.pyplot as plt"
      ]
    },
    {
      "cell_type": "markdown",
      "source": [
        "Initializing W and b randomly"
      ],
      "metadata": {
        "id": "PzxfSLXiO513"
      }
    },
    {
      "cell_type": "code",
      "source": [
        "def initialisation(X):\n",
        "  W = np.random.randn(X.shape[1], 1)\n",
        "  b = np.random.randn(1)\n",
        "  return (W, b)"
      ],
      "metadata": {
        "id": "G2_krjuZO9uy"
      },
      "execution_count": null,
      "outputs": []
    },
    {
      "cell_type": "markdown",
      "source": [
        "Get neuron result"
      ],
      "metadata": {
        "id": "HSeLVmYRPPAt"
      }
    },
    {
      "cell_type": "code",
      "source": [
        "def get_neuron_result(X, W, b):\n",
        "  # Aggregation function\n",
        "  Z = X.dot(W) + b\n",
        "  # \n",
        "  A = 1 / (1 + np.exp(-Z))\n",
        "  return A"
      ],
      "metadata": {
        "id": "09K6aDltP28B"
      },
      "execution_count": null,
      "outputs": []
    },
    {
      "cell_type": "markdown",
      "source": [
        "Defining the log loss function"
      ],
      "metadata": {
        "id": "86uxhbsOQRev"
      }
    },
    {
      "cell_type": "code",
      "source": [
        "def log_loss(A, y):\n",
        "  return 1 / len(y) * np.sum(-y * np.log(A) - (1-y) * np.log(1-A))"
      ],
      "metadata": {
        "id": "yYrdcMwHQXRS"
      },
      "execution_count": null,
      "outputs": []
    },
    {
      "cell_type": "markdown",
      "source": [
        "Defining the gradient function"
      ],
      "metadata": {
        "id": "eSeHFWosSUWs"
      }
    },
    {
      "cell_type": "code",
      "source": [
        "def gradient(A, X, y):\n",
        "  dW = 1 / len(y) * np.dot(X.T, A-y)\n",
        "  db = 1 / len(y) * np.sum(A - y)\n",
        "  return (dW, db)"
      ],
      "metadata": {
        "id": "NlsO-sEGTikH"
      },
      "execution_count": null,
      "outputs": []
    },
    {
      "cell_type": "markdown",
      "source": [
        "Defining the W and b update function"
      ],
      "metadata": {
        "id": "zS9ViN1Za8Uz"
      }
    },
    {
      "cell_type": "code",
      "source": [
        "def upadate(dW, db, W, b, learning_rate):\n",
        "  W = W - learning_rate * dW\n",
        "  b = b - learning_rate * db\n",
        "  return (W, b)"
      ],
      "metadata": {
        "id": "gbt9wEGdarhP"
      },
      "execution_count": null,
      "outputs": []
    },
    {
      "cell_type": "markdown",
      "source": [
        "Define prediction function"
      ],
      "metadata": {
        "id": "zzBpr-MVcwfZ"
      }
    },
    {
      "cell_type": "code",
      "source": [
        "def predict(X, W, b):\n",
        "  A = get_neuron_result(X, W, b)\n",
        "  return 1 if A >= 0.5 else 0"
      ],
      "metadata": {
        "id": "3K2EELYiczqg"
      },
      "execution_count": null,
      "outputs": []
    },
    {
      "cell_type": "markdown",
      "source": [
        "Creating an artificial neuron"
      ],
      "metadata": {
        "id": "eOZfUtySbdcG"
      }
    },
    {
      "cell_type": "code",
      "source": [
        "def artificial_neuron(X, y, learning_rate = 0.1, n_iter = 100):\n",
        "  W, b = initialisation(X)\n",
        "  # We'll record the loss so we can display it\n",
        "  losses = []\n",
        "\n",
        "  for i in range(n_iter):\n",
        "    A = get_neuron_result(X, W, b)\n",
        "    losses.append(log_loss(A, y))\n",
        "    dW, db = gradient(A, X, y)\n",
        "    W, b = upadate(dW, db, W, b, learning_rate)\n",
        "\n",
        "  return (W, b, losses)"
      ],
      "metadata": {
        "id": "4f37YlXxbhq-"
      },
      "execution_count": null,
      "outputs": []
    },
    {
      "cell_type": "markdown",
      "source": [
        "Display losses function"
      ],
      "metadata": {
        "id": "rBk08dlhcdx1"
      }
    },
    {
      "cell_type": "code",
      "source": [
        "def display_losses_curve(losses):\n",
        "  plt.plot(losses)\n",
        "  plt.show()"
      ],
      "metadata": {
        "id": "Cw7pkzgwciFl"
      },
      "execution_count": null,
      "outputs": []
    },
    {
      "cell_type": "markdown",
      "source": [
        "Print metrics"
      ],
      "metadata": {
        "id": "bwFQMSkldktI"
      }
    },
    {
      "cell_type": "code",
      "source": [
        "from sklearn.metrics import accuracy_score, precision_score, recall_score\n",
        "def display_metrics(X, y, W, b):\n",
        "  y_pred = []\n",
        "  for x in X:\n",
        "    y_pred.append(predict(x, W, b))\n",
        "  print(\"Accuracy: \" + str(accuracy_score(y, y_pred)))\n",
        "  print(\"Precision: \" + str(precision_score(y, y_pred)))\n",
        "  print(\"Recall: \" + str(recall_score(y, y_pred)))"
      ],
      "metadata": {
        "id": "fqrRqKBmdonX"
      },
      "execution_count": null,
      "outputs": []
    },
    {
      "cell_type": "markdown",
      "source": [
        "Try Running the code on the plants dataset from sklearn. First, let's diaplay the data we have."
      ],
      "metadata": {
        "id": "79eOAp5vexjU"
      }
    },
    {
      "cell_type": "code",
      "source": [
        "from sklearn.datasets import make_blobs\n",
        "X, y = make_blobs(n_samples=100, n_features=2, centers=2, random_state=0)\n",
        "y = y.reshape((y.shape[0], 1))\n",
        "\n",
        "print('dimensions de x', X.shape)\n",
        "print('dimensions de x', y.shape)\n",
        "\n",
        "plt.scatter(X[:,0], X[:, 1], c=y, cmap='summer')\n",
        "plt.show()"
      ],
      "metadata": {
        "colab": {
          "base_uri": "https://localhost:8080/",
          "height": 300
        },
        "id": "ii_pf2SJevqo",
        "outputId": "51549c06-37a4-4452-aead-69d6e9683149"
      },
      "execution_count": null,
      "outputs": [
        {
          "output_type": "stream",
          "name": "stdout",
          "text": [
            "dimensions de x (100, 2)\n",
            "dimensions de x (100, 1)\n"
          ]
        },
        {
          "output_type": "display_data",
          "data": {
            "text/plain": [
              "<Figure size 432x288 with 1 Axes>"
            ],
            "image/png": "[encoded data removed]"
          },
          "metadata": {
            "needs_background": "light"
          }
        }
      ]
    },
    {
      "cell_type": "markdown",
      "source": [
        "Inspect data"
      ],
      "metadata": {
        "id": "6XnOMC1GjPfn"
      }
    },
    {
      "cell_type": "code",
      "source": [
        "print(X[0])"
      ],
      "metadata": {
        "colab": {
          "base_uri": "https://localhost:8080/"
        },
        "id": "CpQ6GkWxjRnz",
        "outputId": "17d4589e-1f77-46cb-ae7f-387e621c6316"
      },
      "execution_count": null,
      "outputs": [
        {
          "output_type": "stream",
          "name": "stdout",
          "text": [
            "[4.21850347 2.23419161]\n"
          ]
        }
      ]
    },
    {
      "cell_type": "markdown",
      "source": [
        "Train the model"
      ],
      "metadata": {
        "id": "JsAmK3O7fFJa"
      }
    },
    {
      "cell_type": "code",
      "source": [
        "W, b, losses = artificial_neuron(X, y)"
      ],
      "metadata": {
        "id": "Dhvy0og1fGyO"
      },
      "execution_count": null,
      "outputs": []
    },
    {
      "cell_type": "markdown",
      "source": [
        "Display metrics"
      ],
      "metadata": {
        "id": "0ng-quO3kXA7"
      }
    },
    {
      "cell_type": "code",
      "source": [
        "display_metrics(X, y, W, b)"
      ],
      "metadata": {
        "colab": {
          "base_uri": "https://localhost:8080/"
        },
        "id": "oZ4P-MwMnJLf",
        "outputId": "e8d6c430-cf86-4925-9cbd-212c51d9653d"
      },
      "execution_count": null,
      "outputs": [
        {
          "output_type": "stream",
          "name": "stdout",
          "text": [
            "Accuracy: 0.89\n",
            "Precision: 0.9333333333333333\n",
            "Recall: 0.84\n"
          ]
        }
      ]
    },
    {
      "cell_type": "markdown",
      "source": [
        "Display the loss evolution"
      ],
      "metadata": {
        "id": "e5zufL1rgb_x"
      }
    },
    {
      "cell_type": "code",
      "source": [
        "display_losses_curve(losses)"
      ],
      "metadata": {
        "colab": {
          "base_uri": "https://localhost:8080/",
          "height": 265
        },
        "id": "t_Dc4uZ2geXD",
        "outputId": "c84273ce-8d57-4d7e-bbd3-6d411cd534bf"
      },
      "execution_count": null,
      "outputs": [
        {
          "output_type": "display_data",
          "data": {
            "text/plain": [
              "<Figure size 432x288 with 1 Axes>"
            ],
            "image/png": "[encoded data removed]"
          },
          "metadata": {
            "needs_background": "light"
          }
        }
      ]
    },
    {
      "cell_type": "markdown",
      "source": [
        "Create a test case"
      ],
      "metadata": {
        "id": "TSRSLwntgq0q"
      }
    },
    {
      "cell_type": "code",
      "source": [
        "new_plant = np.array([2, 1])\n",
        "res = str(predict(new_plant, W, b))\n",
        "print(\"Our new plant belongs to the class : \" + (\"Yellow\" if res else \"Green\"))\n",
        "plt.scatter(X[:,0], X[:, 1], c=y, cmap='summer')\n",
        "plt.scatter(new_plant[0], new_plant[1], c='r')\n",
        "plt.show()"
      ],
      "metadata": {
        "colab": {
          "base_uri": "https://localhost:8080/",
          "height": 282
        },
        "id": "4jJ9RuuMgtWX",
        "outputId": "219230db-dd31-40a0-e80d-3949639abb1b"
      },
      "execution_count": null,
      "outputs": [
        {
          "output_type": "stream",
          "name": "stdout",
          "text": [
            "Our new plant belongs to the class : Yellow\n"
          ]
        },
        {
          "output_type": "display_data",
          "data": {
            "text/plain": [
              "<Figure size 432x288 with 1 Axes>"
            ],
            "image/png": "[encoded data removed]"
          },
          "metadata": {
            "needs_background": "light"
          }
        }
      ]
    }
  ]
}